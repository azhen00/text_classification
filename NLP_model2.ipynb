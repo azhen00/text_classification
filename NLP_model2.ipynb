{
 "cells": [
  {
   "cell_type": "code",
   "execution_count": 23,
   "metadata": {},
   "outputs": [],
   "source": [
    "import pandas as pd\n",
    "import numpy as np\n",
    "from sklearn.model_selection import train_test_split\n",
    "from sklearn.naive_bayes import MultinomialNB\n",
    "from sklearn.naive_bayes import GaussianNB\n",
    "from sklearn.naive_bayes import BernoulliNB\n",
    "from sklearn.preprocessing import LabelEncoder\n",
    "from sklearn import svm\n",
    "from sklearn.metrics import accuracy_score, confusion_matrix, classification_report\n",
    "import xgboost\n",
    "from sklearn.tree import DecisionTreeClassifier\n",
    "from sklearn.ensemble import RandomForestClassifier, AdaBoostClassifier\n",
    "from sklearn.linear_model import LogisticRegression\n",
    "from sklearn.feature_extraction.text import CountVectorizer, TfidfVectorizer\n",
    "import warnings\n",
    "from sklearn import metrics\n",
    "import os"
   ]
  },
  {
   "cell_type": "code",
   "execution_count": 3,
   "metadata": {},
   "outputs": [],
   "source": [
    "warnings.filterwarnings('ignore')"
   ]
  },
  {
   "cell_type": "code",
   "execution_count": 7,
   "metadata": {},
   "outputs": [],
   "source": [
    "# 批量读取和合并文本数据集\n",
    "\n",
    "def read_text(path,text_list):\n",
    "    \"\"\"\n",
    "    :param path: 必选参数，文件夹路径\n",
    "    :param text_list: 必选参数，文件夹 path 下的所有 .txt 文件名\n",
    "    :return:返回值\n",
    "            features 文本特征数据，以列表形式返回\n",
    "            labels 分类标签，以列表形式返回\n",
    "    \"\"\"\n",
    "    features, labels = [], []\n",
    "    for text in text_list:\n",
    "        if text.split('.')[-1] == 'txt':\n",
    "            try:\n",
    "                with open(path + text, encoding='gbk') as fp:\n",
    "                    features.append(fp.read()) # 特征\n",
    "                    labels.append(path.split('\\\\')[-2]) # 标签\n",
    "            except Exception as erro:\n",
    "                print('\\n>>>发现错误，正在输出错误信息。。。\\n', erro)\n",
    "    return features, labels\n",
    "\n",
    "\n",
    "def merge_text(train_or_text, label_name):\n",
    "    \"\"\"\n",
    "\n",
    "    :param train_or_text: 必选参数，train 训练数据集 or text 测试数据集\n",
    "    :param label_name: 必选参数，分类标签的名字\n",
    "    :return: 返回值\n",
    "            merge_features 合并好的所有特征数据，以列表形式返回\n",
    "            merge_labels 合并好的所有分类标签数据，以列表形式返回\n",
    "    \"\"\"\n",
    "    print('\\n>>>文本读取和合并程序已经启动，请稍等。。。。')\n",
    "    merge_features, merge_labels = [], []\n",
    "    for name in label_name:\n",
    "        path = 'D:\\\\NLP自然语言处理\\\\text_classification\\\\text classification\\\\' + train_or_text + '\\\\' + name + '\\\\'\n",
    "        # print(path)\n",
    "        text_list = os.listdir(path)\n",
    "        # print(text_list)\n",
    "        features, labels = read_text(path=path, text_list=text_list)\n",
    "        merge_features += features # 特征\n",
    "        merge_labels += labels # 标签\n",
    "    return merge_features, merge_labels"
   ]
  },
  {
   "cell_type": "code",
   "execution_count": null,
   "metadata": {},
   "outputs": [],
   "source": [
    "# 获取训练集\n",
    "train_or_text = 'train'\n",
    "label_name = ['女性','体育','校园','文学']\n",
    "X_train, y_train = merge_text(train_or_text, label_name)\n",
    "# 获取测试集\n",
    "train_or_text = 'test'\n",
    "label_name = ['女性','体育','校园','文学']\n",
    "X_test, y_test = merge_text(train_or_text, label_name)\n"
   ]
  },
  {
   "cell_type": "markdown",
   "metadata": {},
   "source": [
    "### 中文文本分词"
   ]
  },
  {
   "cell_type": "code",
   "execution_count": 12,
   "metadata": {},
   "outputs": [
    {
     "name": "stderr",
     "output_type": "stream",
     "text": [
      "Building prefix dict from the default dictionary ...\n",
      "Dumping model to file cache C:\\Users\\azhen\\AppData\\Local\\Temp\\jieba.cache\n",
      "Loading model cost 0.595 seconds.\n",
      "Prefix dict has been built successfully.\n"
     ]
    },
    {
     "data": {
      "text/plain": [
       "['明天 三里屯 见 瑞丽 服饰 美容 ： 2011 瑞丽 造型 大赏 派对 瑞丽 专属 模特 黄美熙 康猴 猴 康乐 帕丽扎 提 也 会 参加 哦 瑞丽 专属 模特 转发 ( 53 ) 评论 ( 5 ) 12 月 8 日 17 : 10 来自 新浪 微博',\n",
       " '转发 微博 水草 温 ： 北京 早安 中国 宝迪沃 减肥 训练营 2012 年 寒假 班 开始 报名 早安 中国 吧 : 51 （ 分享 自 百度 贴 吧 ） 您 还 在 为 肥胖 为难 吗 冬季 减肥 训练 帮助 您 快速 减掉 多余 脂肪 咨询 顾问 温 老师 1071108677 原文 转发 原文 评论',\n",
       " '多谢 支持 ， 鱼子 精华 中 含有 太平洋 深海 凝胶 能 给 秀发 源源 滋养 ， 鱼子 精华 发膜 含有 羟基 积雪草 苷 ， 三重 神经酰胺 能 补充 秀发 流失 的 胶质 ， 可以 有 焕然 新生 的 感觉 。 鲍艺芳 ： 我 在 倍 丽莎 美发 沙龙 做 的 奢华 鱼子酱 护理 超级 好用 以后 就 用 它 了 我 的 最 爱 巴黎 卡诗 原文 转发 原文 评论',\n",
       " '注射 除皱 针 时会 疼 吗 ？ 其他 产品 注射 会 产生 难以忍受 的 疼痛 ， 除皱 针中 含有 微量 的 利多卡因 以 减轻 注射 过程 中 的 疼痛 ， 注射 过程 只有 非常 轻微 的 疼痛感 。 另外 ， 除皱 针 的 胶原蛋白 具有 帮助 凝血 作用 ， 极少 产生 淤血 现象 。 一般 注射 后 就 可以 出门 。 其他 产品 容易 产生 淤斑 ， 而且 时间 较长 。 让 人 难以 接受 。',\n",
       " '注射 除皱 针 时会 疼 吗 ？ 其他 产品 注射 会 产生 难以忍受 的 疼痛 ， 除皱 针中 含有 微量 的 利多卡因 以 减轻 注射 过程 中 的 疼痛 ， 注射 过程 只有 非常 轻微 的 疼痛感 。 另外 ， 除皱 针 的 胶原蛋白 具有 帮助 凝血 作用 ， 极少 产生 淤血 现象 。 一般 注射 后 就 可以 出门 。 其他 产品 容易 产生 淤斑 ， 而且 时间 较长 。 让 人 难以 接受 。']"
      ]
     },
     "execution_count": 12,
     "metadata": {},
     "output_type": "execute_result"
    }
   ],
   "source": [
    "# 训练集\n",
    "import jieba\n",
    "X_train_word = [jieba.cut(words) for words in X_train]\n",
    "X_train_cut = [' '.join(word) for word in X_train_word]\n",
    "X_train_cut[:5]"
   ]
  },
  {
   "cell_type": "code",
   "execution_count": 13,
   "metadata": {},
   "outputs": [
    {
     "data": {
      "text/plain": [
       "['【 L 丰胸 — — 安全 的 丰胸 手术 】 华美 L 美胸 非常 安全 ， 5 大 理由 ： ① 丰胸 手术 在世界上 已有 超过 100 年 的 历史 ; ② 假体 硅胶 有 40 多年 的 安全 使用 史 ; ③ 每年 都 有 超过 600 万 女性 接受 丰胸 手术 ; ④ 不 损伤 乳腺 组织 ， 不 影响 哺乳 ; ⑤ 华美 美莱 率先 发布 中国 首部 《 整形 美容 安全 消费 白皮书 》 ， 维护 社会 大众 整形 美容 消费 利益 。 \\t \\t \\t \\t $ LOTOzf $',\n",
       " '【 穿 高跟鞋 不磨 脚 小 方法 】 1 . 用 热 毛巾 在 磨 脚 的 部位 捂 几分钟 , 再拿块 干 的 软 毛巾 垫 着 , 用 锤子 把 鞋子 磨脚 的 地方 敲 平整 就 可以 啦 ； 2 . 把 报纸 捏 成团 沾点 水 , 不要 太湿 , 但 要 整团 都 沾 到 水 , 再 拿 张干 的 报纸 裹住 湿 的 报纸 , 塞 在 挤 脚 部位 , 用 塑料袋 密封 一夜 ； 3 . 穿鞋 之前 , 拿 香皂 ( 蜡烛 亦可 ) 在 磨脚 位置 薄薄的 涂上一层 。 \\t \\t \\t \\t $ LOTOzf $',\n",
       " '要 在 有限 的 空间 里 实现 最大 的 价值 ， 布 上网 线 、 音频线 、 高清 线 、 投影 线 、 电源线 、 闭 路线 等 一切 能够 想到 的 线 ； 在 32 ㎡ 里 放 一套 沙发 和 预留 5 - 6 个人 的 办公 环境 ； 5 ㎡ 里 做 一个 小 卧室 ； 在 6 ㎡ 里装 一个 袖珍 厨房 和 一个 厕所 ； 还要 在 2 米 * 5 米 的 阳台 上 做 一个 小 花园 ； 除 阳台 外套 内 只有 43 ㎡ 的 房子 要 怎么 做 才能 合理 利用 ？ $ LOTOzf $',\n",
       " '【 女人 命好 的 几点 特征 】   1 . 圆脸 ( 对 人际关系 及 财运 都 有加 分 ) ； 2 . 下巴 丰满 （ 可能 会 拥有 两栋 以上 的 房产 ） ； 3 . 臀大 ( 代表 有 财运 ) ； 4 . 腿 不能 细 （ 腿 长脚 瘦 ， 奔走 不停 ， 辛苦 之相 也 ） ； 5 . 小腹 有 脂肪 ( 状是 一种 福寿之 相 ) 。 $ LOTOzf $',\n",
       " '中央 经济 工作 会议 12 月 12 日至 14 日 在 北京 举行 ， 很 引人瞩目 的 一个 新 的 提法 是 ， 要 提高 中等 收入者 比重 ， 但是 股市 却 把 “ 中等 收入者 ” 一批 又 一批 地 变成 了 “ 低收入 人群 ” ！ $ LOTOzf $']"
      ]
     },
     "execution_count": 13,
     "metadata": {},
     "output_type": "execute_result"
    }
   ],
   "source": [
    "# 测试集\n",
    "import jieba\n",
    "X_test_word = [jieba.cut(words) for words in X_test]\n",
    "X_test_cut = [' '.join(word) for word in X_test_word]\n",
    "X_test_cut[:5]"
   ]
  },
  {
   "cell_type": "markdown",
   "metadata": {},
   "source": [
    "### 停用词使用"
   ]
  },
  {
   "cell_type": "code",
   "execution_count": null,
   "metadata": {},
   "outputs": [],
   "source": [
    "# 加载停用词\n",
    "stoplist = [word.strip() for word in open(r'D:\\NLP自然语言处理\\text_classification\\text classification\\stop\\stopword.txt', encoding='utf-8').readlines()]\n",
    "stoplist"
   ]
  },
  {
   "cell_type": "markdown",
   "metadata": {},
   "source": [
    "### 编码器处理文本标签"
   ]
  },
  {
   "cell_type": "code",
   "execution_count": 17,
   "metadata": {},
   "outputs": [
    {
     "data": {
      "text/plain": [
       "(array([1, 1, 1, 1, 1, 1, 1, 1, 1, 1, 1, 1, 1, 1, 1, 1, 1, 1, 1, 1, 1, 1,\n",
       "        1, 1, 1, 1, 1, 1, 1, 1, 1, 1, 1, 1, 1, 1, 1, 1, 0, 0, 0, 0, 0, 0,\n",
       "        0, 0, 0, 0, 0, 0, 0, 0, 0, 0, 0, 0, 0, 0, 0, 0, 0, 0, 0, 0, 0, 0,\n",
       "        0, 0, 0, 0, 0, 0, 0, 0, 0, 0, 0, 0, 0, 0, 0, 0, 0, 0, 0, 0, 0, 0,\n",
       "        0, 0, 0, 0, 0, 0, 0, 0, 0, 0, 0, 0, 0, 0, 0, 0, 0, 0, 0, 0, 0, 0,\n",
       "        0, 0, 0, 0, 0, 0, 0, 0, 0, 0, 0, 0, 0, 0, 0, 0, 0, 0, 0, 0, 0, 0,\n",
       "        0, 0, 0, 0, 0, 0, 0, 0, 0, 0, 0, 0, 0, 0, 0, 0, 0, 0, 0, 0, 0, 3,\n",
       "        3, 3, 3, 3, 3, 3, 3, 3, 3, 3, 3, 3, 3, 3, 3, 2, 2, 2, 2, 2, 2, 2,\n",
       "        2, 2, 2, 2, 2, 2, 2, 2, 2, 2, 2, 2, 2, 2, 2, 2, 2, 2, 2, 2, 2, 2,\n",
       "        2, 2], dtype=int64),\n",
       " array([1, 1, 1, ..., 2, 2, 2], dtype=int64))"
      ]
     },
     "execution_count": 17,
     "metadata": {},
     "output_type": "execute_result"
    }
   ],
   "source": [
    "le = LabelEncoder()\n",
    "\n",
    "y_train_le = le.fit_transform(y_train)\n",
    "y_test_le = le.fit_transform(y_test)\n",
    "\n",
    "y_test_le, y_train_le"
   ]
  },
  {
   "cell_type": "code",
   "execution_count": 18,
   "metadata": {},
   "outputs": [
    {
     "data": {
      "text/plain": [
       "(<200x5000 sparse matrix of type '<class 'numpy.int64'>'\n",
       " \twith 2829 stored elements in Compressed Sparse Row format>,\n",
       " <3305x5000 sparse matrix of type '<class 'numpy.int64'>'\n",
       " \twith 54595 stored elements in Compressed Sparse Row format>)"
      ]
     },
     "execution_count": 18,
     "metadata": {},
     "output_type": "execute_result"
    }
   ],
   "source": [
    "# 文本数据转换成数据矩阵\n",
    "# 词频矩阵\n",
    "count = CountVectorizer(stop_words=stoplist, max_features=5000).fit(X_train_cut)\n",
    "X_train_count = count.transform(X_train_cut)\n",
    "X_test_count = count.transform(X_test_cut)\n",
    "\n",
    "X_test_count, X_train_count\n"
   ]
  },
  {
   "cell_type": "markdown",
   "metadata": {},
   "source": [
    "### 算法模型\n",
    "封装一个函数，提高复用率，使用是只需调用函数即可"
   ]
  },
  {
   "cell_type": "code",
   "execution_count": 21,
   "metadata": {},
   "outputs": [],
   "source": [
    "# 用于储存所有算法的名字，准确率和所消耗的时间\n",
    "import time\n",
    "estimator_list, score_list, time_list = [], [], []\n"
   ]
  },
  {
   "cell_type": "code",
   "execution_count": 24,
   "metadata": {},
   "outputs": [],
   "source": [
    "def get_text_classification(estimator, X, y, X_test, y_test):\n",
    "    '''\n",
    "    estimator: 分类器，必选参数\n",
    "            X: 特征训练数据，必选参数\n",
    "            y: 标签训练数据，必选参数\n",
    "       X_test: 特征测试数据，必选参数\n",
    "        y_tes: 标签测试数据，必选参数\n",
    "       return: 返回值\n",
    "           y_pred_model: 预测值\n",
    "             classifier: 分类器名字\n",
    "                  score: 准确率\n",
    "                      t: 消耗的时间\n",
    "                  matrix: 混淆矩阵\n",
    "                  report: 分类评价函数\n",
    "                       \n",
    "    '''\n",
    "    start = time.time()\n",
    "    \n",
    "    print('\\n>>>算法正在启动，请稍候...')\n",
    "    model = estimator\n",
    "    \n",
    "    print('\\n>>>算法正在进行训练，请稍候...')\n",
    "    model.fit(X, y)\n",
    "    print(model)\n",
    "    \n",
    "    print('\\n>>>算法正在进行预测，请稍候...')\n",
    "    y_pred_model = model.predict(X_test)\n",
    "    print(y_pred_model)\n",
    "    \n",
    "    print('\\n>>>算法正在进行性能评估，请稍候...')\n",
    "    score = metrics.accuracy_score(y_test, y_pred_model)\n",
    "    matrix = metrics.confusion_matrix(y_test, y_pred_model)\n",
    "    report = metrics.classification_report(y_test, y_pred_model)\n",
    "\n",
    "    print('>>>准确率\\n', score)\n",
    "    print('\\n>>>混淆矩阵\\n', matrix)\n",
    "    print('\\n>>>召回率\\n', report)\n",
    "    print('>>>算法程序已经结束...')\n",
    "    \n",
    "    end = time.time()\n",
    "    t = end - start\n",
    "    print('\\n>>>算法消耗时间为:', t, '秒\\n')\n",
    "    classifier = str(model).split('(')[0]\n",
    "    \n",
    "    return y_pred_model, classifier, score, round(t, 2), matrix, report\n",
    "  "
   ]
  },
  {
   "cell_type": "code",
   "execution_count": 25,
   "metadata": {},
   "outputs": [
    {
     "name": "stdout",
     "output_type": "stream",
     "text": [
      "\n",
      ">>>算法正在启动，请稍候...\n",
      "\n",
      ">>>算法正在进行训练，请稍候...\n",
      "KNeighborsClassifier()\n",
      "\n",
      ">>>算法正在进行预测，请稍候...\n",
      "[1 0 2 1 2 2 1 1 2 1 1 1 1 1 2 1 1 2 0 1 1 1 1 1 0 1 2 0 1 1 0 2 2 2 2 2 0\n",
      " 1 0 0 3 0 0 2 0 2 0 0 2 0 0 2 2 0 0 2 0 0 0 1 0 2 2 2 1 0 0 3 2 0 0 0 2 1\n",
      " 0 0 1 0 0 2 0 0 0 0 0 0 0 0 0 0 2 2 0 2 2 0 0 0 2 0 0 0 0 0 2 2 2 0 0 2 0\n",
      " 0 0 0 0 0 0 0 0 0 0 0 0 2 0 2 2 0 0 0 2 0 0 2 0 0 0 2 2 2 0 0 2 2 0 2 2 1\n",
      " 0 0 0 0 0 2 3 0 3 0 3 2 2 3 3 0 3 2 2 2 2 2 2 2 2 2 2 2 2 2 2 2 2 2 2 0 2\n",
      " 2 2 2 0 2 2 2 2 2 2 0 2 0 2 2]\n",
      "\n",
      ">>>算法正在进行性能评估，请稍候...\n",
      ">>>准确率\n",
      " 0.64\n",
      "\n",
      ">>>混淆矩阵\n",
      " [[75  5 33  2]\n",
      " [ 6 20 12  0]\n",
      " [ 4  0 27  0]\n",
      " [ 3  0  7  6]]\n",
      "\n",
      ">>>召回率\n",
      "               precision    recall  f1-score   support\n",
      "\n",
      "           0       0.85      0.65      0.74       115\n",
      "           1       0.80      0.53      0.63        38\n",
      "           2       0.34      0.87      0.49        31\n",
      "           3       0.75      0.38      0.50        16\n",
      "\n",
      "    accuracy                           0.64       200\n",
      "   macro avg       0.69      0.61      0.59       200\n",
      "weighted avg       0.76      0.64      0.66       200\n",
      "\n",
      ">>>算法程序已经结束...\n",
      "\n",
      ">>>算法消耗时间为: 0.03939104080200195 秒\n",
      "\n"
     ]
    },
    {
     "data": {
      "text/plain": [
       "(None, None, None)"
      ]
     },
     "execution_count": 25,
     "metadata": {},
     "output_type": "execute_result"
    }
   ],
   "source": [
    "# K近邻\n",
    "from sklearn.neighbors import KNeighborsClassifier\n",
    "knc = KNeighborsClassifier(n_neighbors=5)\n",
    "result = get_text_classification(knc,X_train_count, y_train_le, X_test_count, y_test_le)\n",
    "estimator_list.append(result[1]), score_list.append(result[2]), time_list.append(result[3])"
   ]
  },
  {
   "cell_type": "markdown",
   "metadata": {},
   "source": [
    "### 决策树"
   ]
  },
  {
   "cell_type": "code",
   "execution_count": 29,
   "metadata": {},
   "outputs": [
    {
     "name": "stdout",
     "output_type": "stream",
     "text": [
      "\n",
      ">>>算法正在启动，请稍候...\n",
      "\n",
      ">>>算法正在进行训练，请稍候...\n",
      "DecisionTreeClassifier()\n",
      "\n",
      ">>>算法正在进行预测，请稍候...\n",
      "[1 1 2 1 2 2 1 1 1 1 1 1 1 1 1 1 1 1 1 1 1 1 1 1 1 1 1 1 1 1 1 3 1 2 1 2 0\n",
      " 1 0 0 0 0 0 0 0 0 0 0 0 0 0 2 1 0 0 0 0 0 0 0 0 0 2 2 0 0 0 2 0 0 0 0 2 0\n",
      " 2 0 0 0 0 2 0 2 2 2 0 0 0 0 0 0 3 3 0 0 1 1 0 0 0 0 0 0 0 0 2 0 0 2 0 2 0\n",
      " 2 0 0 0 0 0 0 0 0 0 0 0 2 0 0 0 0 0 0 1 0 0 0 0 0 0 0 0 2 2 2 0 0 2 2 1 2\n",
      " 2 0 0 0 0 2 3 1 3 2 3 3 3 3 3 0 3 2 2 2 3 2 1 2 2 2 2 2 2 2 1 2 2 2 2 2 3\n",
      " 3 2 2 2 1 2 3 3 0 2 1 0 2 2 2]\n",
      "\n",
      ">>>算法正在进行性能评估，请稍候...\n",
      ">>>准确率\n",
      " 0.735\n",
      "\n",
      ">>>混淆矩阵\n",
      " [[86  5 22  2]\n",
      " [ 1 31  5  1]\n",
      " [ 2  4 21  4]\n",
      " [ 1  1  5  9]]\n",
      "\n",
      ">>>召回率\n",
      "               precision    recall  f1-score   support\n",
      "\n",
      "           0       0.96      0.75      0.84       115\n",
      "           1       0.76      0.82      0.78        38\n",
      "           2       0.40      0.68      0.50        31\n",
      "           3       0.56      0.56      0.56        16\n",
      "\n",
      "    accuracy                           0.73       200\n",
      "   macro avg       0.67      0.70      0.67       200\n",
      "weighted avg       0.80      0.73      0.75       200\n",
      "\n",
      ">>>算法程序已经结束...\n",
      "\n",
      ">>>算法消耗时间为: 0.1755056381225586 秒\n",
      "\n"
     ]
    },
    {
     "data": {
      "text/plain": [
       "(None, None, None)"
      ]
     },
     "execution_count": 29,
     "metadata": {},
     "output_type": "execute_result"
    }
   ],
   "source": [
    "dtc = DecisionTreeClassifier()\n",
    "\n",
    "result = get_text_classification(dtc, X_train_count, y_train_le, X_test_count, y_test_le)\n",
    "estimator_list.append(result[1]), score_list.append(result[2]), time_list.append(result[3])"
   ]
  },
  {
   "cell_type": "code",
   "execution_count": 30,
   "metadata": {},
   "outputs": [
    {
     "name": "stdout",
     "output_type": "stream",
     "text": [
      "\n",
      ">>>算法正在启动，请稍候...\n",
      "\n",
      ">>>算法正在进行训练，请稍候...\n",
      "BernoulliNB()\n",
      "\n",
      ">>>算法正在进行预测，请稍候...\n",
      "[1 1 2 1 0 1 1 1 1 1 1 2 1 1 1 1 1 1 1 1 1 1 1 1 1 1 1 1 1 1 1 2 1 0 1 2 1\n",
      " 1 0 0 0 0 0 0 0 0 0 0 0 0 0 0 0 0 0 0 0 0 0 0 0 0 0 0 0 0 0 0 0 0 0 0 0 0\n",
      " 0 0 2 0 0 0 0 0 0 0 0 0 0 0 0 0 0 0 0 0 0 0 3 0 0 0 2 0 0 0 2 0 0 0 0 0 0\n",
      " 0 0 0 0 0 2 0 0 0 0 2 0 0 0 0 0 0 0 0 0 0 0 0 0 0 0 0 0 0 0 1 0 2 2 2 0 2\n",
      " 0 0 0 0 0 0 3 2 3 0 2 2 0 0 3 2 3 0 0 0 0 2 2 2 2 2 2 2 2 2 2 2 2 2 2 2 2\n",
      " 2 2 2 2 2 2 2 2 2 2 2 0 2 2 2]\n",
      "\n",
      ">>>算法正在进行性能评估，请稍候...\n",
      ">>>准确率\n",
      " 0.85\n",
      "\n",
      ">>>混淆矩阵\n",
      " [[104   1   9   1]\n",
      " [  2  32   4   0]\n",
      " [  1   0  30   0]\n",
      " [  8   0   4   4]]\n",
      "\n",
      ">>>召回率\n",
      "               precision    recall  f1-score   support\n",
      "\n",
      "           0       0.90      0.90      0.90       115\n",
      "           1       0.97      0.84      0.90        38\n",
      "           2       0.64      0.97      0.77        31\n",
      "           3       0.80      0.25      0.38        16\n",
      "\n",
      "    accuracy                           0.85       200\n",
      "   macro avg       0.83      0.74      0.74       200\n",
      "weighted avg       0.87      0.85      0.84       200\n",
      "\n",
      ">>>算法程序已经结束...\n",
      "\n",
      ">>>算法消耗时间为: 0.009929895401000977 秒\n",
      "\n"
     ]
    },
    {
     "data": {
      "text/plain": [
       "(None, None, None)"
      ]
     },
     "execution_count": 30,
     "metadata": {},
     "output_type": "execute_result"
    }
   ],
   "source": [
    "# 伯努利贝叶斯\n",
    "bnb = BernoulliNB()\n",
    "\n",
    "result = get_text_classification(bnb, X_train_count, y_train_le, X_test_count, y_test_le)\n",
    "estimator_list.append(result[1]), score_list.append(result[2]), time_list.append(result[3])\n"
   ]
  },
  {
   "cell_type": "code",
   "execution_count": 33,
   "metadata": {},
   "outputs": [
    {
     "name": "stdout",
     "output_type": "stream",
     "text": [
      "\n",
      ">>>算法正在启动，请稍候...\n",
      "\n",
      ">>>算法正在进行训练，请稍候...\n",
      "MultinomialNB()\n",
      "\n",
      ">>>算法正在进行预测，请稍候...\n",
      "[1 1 3 1 3 1 1 1 1 1 1 2 1 1 1 1 1 1 1 1 1 1 1 1 1 1 1 1 1 1 1 2 1 1 1 1 1\n",
      " 1 0 0 0 0 0 0 0 0 0 0 0 0 0 0 0 0 0 0 0 0 0 0 0 0 0 0 0 0 0 0 0 0 0 0 0 0\n",
      " 0 0 2 0 0 0 0 0 0 0 0 0 0 0 0 0 0 0 0 0 0 3 0 0 0 0 2 0 0 0 0 0 0 0 0 0 0\n",
      " 0 0 0 0 0 0 0 0 0 0 0 0 0 0 0 0 0 0 0 0 0 0 0 0 0 0 0 0 0 0 3 0 2 3 2 0 2\n",
      " 0 0 0 0 0 3 3 2 3 3 3 2 3 3 3 3 3 0 0 0 3 2 2 2 2 2 2 2 2 2 2 2 2 2 2 2 2\n",
      " 2 2 2 2 2 2 2 2 2 2 2 2 2 2 2]\n",
      "\n",
      ">>>算法正在进行性能评估，请稍候...\n",
      ">>>准确率\n",
      " 0.915\n",
      "\n",
      ">>>混淆矩阵\n",
      " [[107   0   5   3]\n",
      " [  0  34   2   2]\n",
      " [  0   0  31   0]\n",
      " [  3   0   2  11]]\n",
      "\n",
      ">>>召回率\n",
      "               precision    recall  f1-score   support\n",
      "\n",
      "           0       0.97      0.93      0.95       115\n",
      "           1       1.00      0.89      0.94        38\n",
      "           2       0.78      1.00      0.87        31\n",
      "           3       0.69      0.69      0.69        16\n",
      "\n",
      "    accuracy                           0.92       200\n",
      "   macro avg       0.86      0.88      0.86       200\n",
      "weighted avg       0.92      0.92      0.92       200\n",
      "\n",
      ">>>算法程序已经结束...\n",
      "\n",
      ">>>算法消耗时间为: 0.013958930969238281 秒\n",
      "\n"
     ]
    },
    {
     "data": {
      "text/plain": [
       "(None, None, None)"
      ]
     },
     "execution_count": 33,
     "metadata": {},
     "output_type": "execute_result"
    }
   ],
   "source": [
    "# 多项式贝叶斯\n",
    "mnb = MultinomialNB()\n",
    "\n",
    "result = get_text_classification(mnb, X_train_count, y_train_le, X_test_count, y_test_le)\n",
    "estimator_list.append(result[1]), score_list.append(result[2]), time_list.append(result[3])"
   ]
  },
  {
   "cell_type": "code",
   "execution_count": 39,
   "metadata": {},
   "outputs": [
    {
     "name": "stdout",
     "output_type": "stream",
     "text": [
      "\n",
      ">>>算法正在启动，请稍候...\n",
      "\n",
      ">>>算法正在进行训练，请稍候...\n",
      "GaussianNB()\n",
      "\n",
      ">>>算法正在进行预测，请稍候...\n",
      "[1 1 1 1 3 1 1 1 1 1 1 2 1 1 1 1 1 1 1 1 1 1 1 1 2 1 1 1 1 1 0 2 1 2 1 2 1\n",
      " 1 0 0 0 0 0 0 0 0 2 0 0 0 0 0 0 0 0 0 0 0 0 0 0 0 0 0 0 2 0 0 0 0 0 0 0 0\n",
      " 0 0 2 0 0 0 0 0 0 0 0 0 0 0 0 0 2 2 0 0 0 0 0 0 0 0 1 0 0 0 0 0 0 0 0 2 0\n",
      " 0 0 0 0 0 2 0 0 0 0 2 0 0 0 0 0 0 0 0 0 0 0 0 0 0 0 0 0 0 0 0 0 0 0 1 0 2\n",
      " 0 0 0 0 0 0 3 0 0 3 3 2 3 3 3 2 3 3 3 3 3 2 3 2 2 2 2 0 1 2 2 2 2 2 2 2 2\n",
      " 2 2 2 2 2 2 1 2 0 2 2 0 2 2 2]\n",
      "\n",
      ">>>算法正在进行性能评估，请稍候...\n",
      ">>>准确率\n",
      " 0.855\n",
      "\n",
      ">>>混淆矩阵\n",
      " [[104   2   9   0]\n",
      " [  1  31   5   1]\n",
      " [  3   2  25   1]\n",
      " [  3   0   2  11]]\n",
      "\n",
      ">>>召回率\n",
      "               precision    recall  f1-score   support\n",
      "\n",
      "           0       0.94      0.90      0.92       115\n",
      "           1       0.89      0.82      0.85        38\n",
      "           2       0.61      0.81      0.69        31\n",
      "           3       0.85      0.69      0.76        16\n",
      "\n",
      "    accuracy                           0.85       200\n",
      "   macro avg       0.82      0.80      0.81       200\n",
      "weighted avg       0.87      0.85      0.86       200\n",
      "\n",
      ">>>算法程序已经结束...\n",
      "\n",
      ">>>算法消耗时间为: 0.30614352226257324 秒\n",
      "\n"
     ]
    },
    {
     "data": {
      "text/plain": [
       "(None, None, None)"
      ]
     },
     "execution_count": 39,
     "metadata": {},
     "output_type": "execute_result"
    }
   ],
   "source": [
    "# 高斯贝叶斯\n",
    "\n",
    "gnb = GaussianNB()\n",
    "\n",
    "result = get_text_classification(gnb, X_train_count.toarray(), y_train_le, X_test_count.toarray(), y_test_le)\n",
    "estimator_list.append(result[1]), score_list.append(result[2]), time_list.append(result[3])"
   ]
  },
  {
   "cell_type": "code",
   "execution_count": 40,
   "metadata": {},
   "outputs": [
    {
     "name": "stdout",
     "output_type": "stream",
     "text": [
      "\n",
      ">>>算法正在启动，请稍候...\n",
      "\n",
      ">>>算法正在进行训练，请稍候...\n",
      "LogisticRegression()\n",
      "\n",
      ">>>算法正在进行预测，请稍候...\n",
      "[1 1 1 1 3 1 1 1 1 1 1 1 1 1 1 1 1 1 1 1 1 1 1 1 1 1 1 1 1 1 1 1 1 1 1 1 1\n",
      " 1 0 0 0 0 0 0 0 0 0 0 0 0 0 0 0 0 0 0 0 0 0 0 0 0 0 0 0 0 0 0 0 0 0 0 0 0\n",
      " 0 0 0 0 0 0 0 0 0 0 0 0 0 0 0 0 2 2 0 0 0 1 0 0 0 0 0 0 0 0 2 0 0 0 0 0 0\n",
      " 0 0 0 0 0 0 0 0 0 0 0 0 0 0 0 0 0 0 0 0 0 0 0 0 0 0 0 2 2 0 1 0 2 0 1 0 2\n",
      " 2 0 0 0 0 0 3 2 3 2 3 3 3 3 3 1 3 2 2 2 3 2 2 2 2 2 2 2 2 2 2 2 2 2 2 2 2\n",
      " 2 2 2 1 2 2 2 2 2 2 1 0 2 2 2]\n",
      "\n",
      ">>>算法正在进行性能评估，请稍候...\n",
      ">>>准确率\n",
      " 0.89\n",
      "\n",
      ">>>混淆矩阵\n",
      " [[104   3   8   0]\n",
      " [  0  37   0   1]\n",
      " [  1   2  28   0]\n",
      " [  1   1   5   9]]\n",
      "\n",
      ">>>召回率\n",
      "               precision    recall  f1-score   support\n",
      "\n",
      "           0       0.98      0.90      0.94       115\n",
      "           1       0.86      0.97      0.91        38\n",
      "           2       0.68      0.90      0.78        31\n",
      "           3       0.90      0.56      0.69        16\n",
      "\n",
      "    accuracy                           0.89       200\n",
      "   macro avg       0.86      0.84      0.83       200\n",
      "weighted avg       0.91      0.89      0.89       200\n",
      "\n",
      ">>>算法程序已经结束...\n",
      "\n",
      ">>>算法消耗时间为: 0.39310669898986816 秒\n",
      "\n"
     ]
    },
    {
     "data": {
      "text/plain": [
       "(None, None, None)"
      ]
     },
     "execution_count": 40,
     "metadata": {},
     "output_type": "execute_result"
    }
   ],
   "source": [
    "# 逻辑回归\n",
    "\n",
    "lg = LogisticRegression()\n",
    "\n",
    "result = result = get_text_classification(lg, X_train_count, y_train_le, X_test_count, y_test_le)\n",
    "estimator_list.append(result[1]), score_list.append(result[2]), time_list.append(result[3])\n",
    "\n"
   ]
  },
  {
   "cell_type": "code",
   "execution_count": 43,
   "metadata": {},
   "outputs": [
    {
     "name": "stdout",
     "output_type": "stream",
     "text": [
      "\n",
      ">>>算法正在启动，请稍候...\n",
      "\n",
      ">>>算法正在进行训练，请稍候...\n",
      "SVC(kernel='sigmoid')\n",
      "\n",
      ">>>算法正在进行预测，请稍候...\n",
      "[1 1 0 1 2 0 1 1 1 1 1 1 1 1 1 1 1 2 2 1 1 1 1 1 1 1 1 1 1 1 1 1 1 1 1 1 1\n",
      " 1 0 0 0 0 0 0 0 0 0 0 0 0 0 0 0 0 0 0 0 0 0 0 0 0 0 0 0 0 0 0 0 0 0 0 0 0\n",
      " 0 0 0 0 0 0 0 0 0 0 0 0 0 0 0 0 2 2 0 0 0 1 0 0 0 0 0 0 0 0 2 0 0 0 0 0 0\n",
      " 0 0 0 0 0 0 0 0 0 0 0 0 0 0 0 0 0 0 0 0 0 0 0 0 0 0 0 1 2 0 1 0 2 0 2 0 2\n",
      " 2 0 0 0 0 0 3 2 3 2 3 3 3 3 3 0 3 0 0 0 3 2 2 2 2 2 2 2 2 2 2 0 2 2 2 2 2\n",
      " 2 2 2 1 2 2 3 2 2 2 2 0 2 2 2]\n",
      "\n",
      ">>>算法正在进行性能评估，请稍候...\n",
      ">>>准确率\n",
      " 0.865\n",
      "\n",
      ">>>混淆矩阵\n",
      " [[104   3   8   0]\n",
      " [  2  33   3   0]\n",
      " [  2   1  27   1]\n",
      " [  5   0   2   9]]\n",
      "\n",
      ">>>召回率\n",
      "               precision    recall  f1-score   support\n",
      "\n",
      "           0       0.92      0.90      0.91       115\n",
      "           1       0.89      0.87      0.88        38\n",
      "           2       0.68      0.87      0.76        31\n",
      "           3       0.90      0.56      0.69        16\n",
      "\n",
      "    accuracy                           0.86       200\n",
      "   macro avg       0.85      0.80      0.81       200\n",
      "weighted avg       0.88      0.86      0.87       200\n",
      "\n",
      ">>>算法程序已经结束...\n",
      "\n",
      ">>>算法消耗时间为: 0.952690839767456 秒\n",
      "\n"
     ]
    },
    {
     "data": {
      "text/plain": [
       "(None, None, None)"
      ]
     },
     "execution_count": 43,
     "metadata": {},
     "output_type": "execute_result"
    }
   ],
   "source": [
    "# 支持向量机\n",
    "\n",
    "svc = svm.SVC(kernel='sigmoid')\n",
    "\n",
    "result = get_text_classification(svc, X_train_count, y_train_le, X_test_count, y_test_le)\n",
    "estimator_list.append(result[1]), score_list.append(result[2]), time_list.append(result[3])"
   ]
  },
  {
   "cell_type": "code",
   "execution_count": 45,
   "metadata": {},
   "outputs": [
    {
     "name": "stdout",
     "output_type": "stream",
     "text": [
      "\n",
      ">>>算法正在启动，请稍候...\n",
      "\n",
      ">>>算法正在进行训练，请稍候...\n",
      "RandomForestClassifier()\n",
      "\n",
      ">>>算法正在进行预测，请稍候...\n",
      "[1 1 2 1 3 3 1 1 1 1 1 1 1 1 1 1 1 1 1 1 1 1 1 1 1 1 1 1 1 1 1 3 1 2 1 2 1\n",
      " 1 0 0 0 0 0 0 0 0 0 0 0 0 0 0 1 0 0 0 0 0 0 0 0 0 0 2 0 0 0 2 0 0 0 0 2 0\n",
      " 0 0 3 0 0 0 0 0 0 0 0 0 0 0 0 0 2 2 0 0 0 1 0 0 0 0 2 0 0 0 2 2 0 0 0 0 0\n",
      " 0 0 0 0 0 0 0 0 0 0 0 0 2 0 0 0 0 0 0 0 0 0 0 0 0 0 0 0 2 3 1 2 2 2 2 3 2\n",
      " 3 0 0 0 0 1 3 2 3 2 3 3 3 3 3 0 3 2 2 2 3 2 2 2 2 2 2 2 2 2 2 2 2 2 2 2 2\n",
      " 2 2 2 0 2 2 3 2 0 2 2 2 2 2 2]\n",
      "\n",
      ">>>算法正在进行性能评估，请稍候...\n",
      ">>>准确率\n",
      " 0.81\n",
      "\n",
      ">>>混淆矩阵\n",
      " [[93  3 15  4]\n",
      " [ 0 32  3  3]\n",
      " [ 2  0 28  1]\n",
      " [ 1  1  5  9]]\n",
      "\n",
      ">>>召回率\n",
      "               precision    recall  f1-score   support\n",
      "\n",
      "           0       0.97      0.81      0.88       115\n",
      "           1       0.89      0.84      0.86        38\n",
      "           2       0.55      0.90      0.68        31\n",
      "           3       0.53      0.56      0.55        16\n",
      "\n",
      "    accuracy                           0.81       200\n",
      "   macro avg       0.73      0.78      0.74       200\n",
      "weighted avg       0.85      0.81      0.82       200\n",
      "\n",
      ">>>算法程序已经结束...\n",
      "\n",
      ">>>算法消耗时间为: 1.0136773586273193 秒\n",
      "\n"
     ]
    },
    {
     "data": {
      "text/plain": [
       "(None, None, None)"
      ]
     },
     "execution_count": 45,
     "metadata": {},
     "output_type": "execute_result"
    }
   ],
   "source": [
    "# 集成学习算法\n",
    "\n",
    "# 随机森林算法\n",
    "\n",
    "rfc = RandomForestClassifier()\n",
    "\n",
    "result = get_text_classification(rfc, X_train_count, y_train_le, X_test_count, y_test_le)\n",
    "estimator_list.append(result[1]), score_list.append(result[2]), time_list.append(result[3])"
   ]
  },
  {
   "cell_type": "code",
   "execution_count": 47,
   "metadata": {},
   "outputs": [
    {
     "name": "stdout",
     "output_type": "stream",
     "text": [
      "\n",
      ">>>算法正在启动，请稍候...\n",
      "\n",
      ">>>算法正在进行训练，请稍候...\n",
      "AdaBoostClassifier(n_estimators=100)\n",
      "\n",
      ">>>算法正在进行预测，请稍候...\n",
      "[1 1 1 1 0 1 1 1 1 1 1 1 1 1 1 1 1 1 1 1 1 1 1 1 1 1 1 1 1 1 1 1 1 1 1 1 1\n",
      " 1 0 0 0 0 0 0 0 0 0 0 0 0 0 1 1 0 1 0 0 1 0 1 1 0 1 1 0 0 0 1 1 0 0 0 1 1\n",
      " 1 0 1 0 0 0 1 1 1 1 1 0 1 0 0 0 1 1 0 1 1 1 0 1 0 1 1 1 0 0 1 1 0 1 0 1 0\n",
      " 1 0 0 0 0 0 0 0 1 0 0 0 1 1 0 0 0 0 0 1 0 0 0 0 1 0 1 1 1 1 1 1 1 1 1 1 1\n",
      " 1 0 0 0 0 1 2 1 3 1 2 3 2 3 2 0 3 1 1 1 3 2 1 2 1 2 2 0 2 2 1 1 2 1 1 2 3\n",
      " 2 1 2 1 1 2 3 3 3 3 0 0 1 1 2]\n",
      "\n",
      ">>>算法正在进行性能评估，请稍候...\n",
      ">>>准确率\n",
      " 0.59\n",
      "\n",
      ">>>混淆矩阵\n",
      " [[64 51  0  0]\n",
      " [ 1 37  0  0]\n",
      " [ 3 11 12  5]\n",
      " [ 1  6  4  5]]\n",
      "\n",
      ">>>召回率\n",
      "               precision    recall  f1-score   support\n",
      "\n",
      "           0       0.93      0.56      0.70       115\n",
      "           1       0.35      0.97      0.52        38\n",
      "           2       0.75      0.39      0.51        31\n",
      "           3       0.50      0.31      0.38        16\n",
      "\n",
      "    accuracy                           0.59       200\n",
      "   macro avg       0.63      0.56      0.53       200\n",
      "weighted avg       0.76      0.59      0.61       200\n",
      "\n",
      ">>>算法程序已经结束...\n",
      "\n",
      ">>>算法消耗时间为: 0.4330556392669678 秒\n",
      "\n"
     ]
    },
    {
     "data": {
      "text/plain": [
       "(None, None, None)"
      ]
     },
     "execution_count": 47,
     "metadata": {},
     "output_type": "execute_result"
    }
   ],
   "source": [
    "# 自增强算法\n",
    "\n",
    "abc = AdaBoostClassifier(n_estimators=100)\n",
    "\n",
    "\n",
    "result = get_text_classification(abc, X_train_count, y_train_le, X_test_count, y_test_le)\n",
    "estimator_list.append(result[1]), score_list.append(result[2]), time_list.append(result[3])"
   ]
  },
  {
   "cell_type": "code",
   "execution_count": 60,
   "metadata": {},
   "outputs": [
    {
     "name": "stdout",
     "output_type": "stream",
     "text": [
      "\n",
      ">>>算法正在启动，请稍候...\n",
      "\n",
      ">>>算法正在进行训练，请稍候...\n",
      "[17:26:49] WARNING: C:/Users/Administrator/workspace/xgboost-win64_release_1.5.0/src/learner.cc:1115: Starting in XGBoost 1.3.0, the default evaluation metric used with the objective 'multi:softprob' was changed from 'merror' to 'mlogloss'. Explicitly set eval_metric if you'd like to restore the old behavior.\n",
      "XGBClassifier(base_score=0.5, booster='gbtree', colsample_bylevel=1,\n",
      "              colsample_bynode=1, colsample_bytree=1, enable_categorical=False,\n",
      "              gamma=0, gpu_id=-1, importance_type=None,\n",
      "              interaction_constraints='', learning_rate=0.300000012,\n",
      "              max_delta_step=0, max_depth=6, min_child_weight=1, missing=nan,\n",
      "              monotone_constraints='()', n_estimators=100, n_jobs=8,\n",
      "              num_parallel_tree=1, objective='multi:softprob', predictor='auto',\n",
      "              random_state=0, reg_alpha=0, reg_lambda=1, scale_pos_weight=None,\n",
      "              subsample=1, tree_method='exact', validate_parameters=1,\n",
      "              verbosity=None)\n",
      "\n",
      ">>>算法正在进行预测，请稍候...\n",
      "[1 1 1 1 1 1 1 1 1 1 1 1 1 1 1 1 1 1 1 1 1 1 1 1 1 1 1 1 1 1 1 1 1 1 1 1 2\n",
      " 1 0 0 0 0 0 0 0 0 0 0 0 0 0 0 1 0 0 0 0 0 0 0 0 0 0 1 0 0 0 1 0 0 0 0 2 0\n",
      " 0 0 1 0 0 0 0 0 0 0 0 0 0 0 0 0 0 0 0 0 0 1 0 0 0 0 0 0 0 0 1 2 0 0 0 0 0\n",
      " 0 0 0 0 0 2 0 0 0 0 2 0 1 0 0 0 0 0 0 0 0 0 0 0 0 0 0 2 1 1 1 2 0 2 1 0 1\n",
      " 1 0 0 0 0 1 3 1 3 2 3 3 3 3 3 0 3 1 1 1 3 2 2 2 2 2 2 2 2 2 1 2 2 2 2 2 2\n",
      " 3 2 2 1 2 2 3 2 0 2 1 0 2 1 2]\n",
      "\n",
      ">>>算法正在进行性能评估，请稍候...\n",
      ">>>准确率\n",
      " 0.82\n",
      "\n",
      ">>>混淆矩阵\n",
      " [[95 13  7  0]\n",
      " [ 0 37  1  0]\n",
      " [ 2  4 23  2]\n",
      " [ 1  5  1  9]]\n",
      "\n",
      ">>>召回率\n",
      "               precision    recall  f1-score   support\n",
      "\n",
      "           0       0.97      0.83      0.89       115\n",
      "           1       0.63      0.97      0.76        38\n",
      "           2       0.72      0.74      0.73        31\n",
      "           3       0.82      0.56      0.67        16\n",
      "\n",
      "    accuracy                           0.82       200\n",
      "   macro avg       0.78      0.78      0.76       200\n",
      "weighted avg       0.85      0.82      0.82       200\n",
      "\n",
      ">>>算法程序已经结束...\n",
      "\n",
      ">>>算法消耗时间为: 1.0949268341064453 秒\n",
      "\n"
     ]
    },
    {
     "data": {
      "text/plain": [
       "(None, None, None)"
      ]
     },
     "execution_count": 60,
     "metadata": {},
     "output_type": "execute_result"
    }
   ],
   "source": [
    "xgb = xgboost.XGBClassifier()\n",
    "\n",
    "result = get_text_classification(xgb, X_train_count, y_train_le, X_test_count, y_test_le)\n",
    "estimator_list.append(result[1]), score_list.append(result[2]), time_list.append(result[3])\n",
    "# model = xgb.fit(X_train_count, y_train)\n",
    "# pre = model.predict(X_test_count)\n",
    "# score = metrics.accuracy_score(y_test, pre)\n"
   ]
  },
  {
   "cell_type": "code",
   "execution_count": 61,
   "metadata": {},
   "outputs": [
    {
     "data": {
      "text/html": [
       "<div>\n",
       "<style scoped>\n",
       "    .dataframe tbody tr th:only-of-type {\n",
       "        vertical-align: middle;\n",
       "    }\n",
       "\n",
       "    .dataframe tbody tr th {\n",
       "        vertical-align: top;\n",
       "    }\n",
       "\n",
       "    .dataframe thead th {\n",
       "        text-align: right;\n",
       "    }\n",
       "</style>\n",
       "<table border=\"1\" class=\"dataframe\">\n",
       "  <thead>\n",
       "    <tr style=\"text-align: right;\">\n",
       "      <th></th>\n",
       "      <th>分类器</th>\n",
       "      <th>准确率</th>\n",
       "      <th>消耗时间/s</th>\n",
       "    </tr>\n",
       "  </thead>\n",
       "  <tbody>\n",
       "    <tr>\n",
       "      <th>0</th>\n",
       "      <td>KNeighborsClassifier</td>\n",
       "      <td>0.640</td>\n",
       "      <td>0.04</td>\n",
       "    </tr>\n",
       "    <tr>\n",
       "      <th>1</th>\n",
       "      <td>DecisionTreeClassifier</td>\n",
       "      <td>0.415</td>\n",
       "      <td>0.03</td>\n",
       "    </tr>\n",
       "    <tr>\n",
       "      <th>2</th>\n",
       "      <td>DecisionTreeClassifier</td>\n",
       "      <td>0.400</td>\n",
       "      <td>0.02</td>\n",
       "    </tr>\n",
       "    <tr>\n",
       "      <th>3</th>\n",
       "      <td>DecisionTreeClassifier</td>\n",
       "      <td>0.735</td>\n",
       "      <td>0.18</td>\n",
       "    </tr>\n",
       "    <tr>\n",
       "      <th>4</th>\n",
       "      <td>BernoulliNB</td>\n",
       "      <td>0.850</td>\n",
       "      <td>0.01</td>\n",
       "    </tr>\n",
       "    <tr>\n",
       "      <th>5</th>\n",
       "      <td>MultinomialNB</td>\n",
       "      <td>0.915</td>\n",
       "      <td>0.01</td>\n",
       "    </tr>\n",
       "    <tr>\n",
       "      <th>6</th>\n",
       "      <td>MultinomialNB</td>\n",
       "      <td>0.915</td>\n",
       "      <td>0.01</td>\n",
       "    </tr>\n",
       "    <tr>\n",
       "      <th>7</th>\n",
       "      <td>MultinomialNB</td>\n",
       "      <td>0.915</td>\n",
       "      <td>0.01</td>\n",
       "    </tr>\n",
       "    <tr>\n",
       "      <th>8</th>\n",
       "      <td>MultinomialNB</td>\n",
       "      <td>0.915</td>\n",
       "      <td>0.01</td>\n",
       "    </tr>\n",
       "    <tr>\n",
       "      <th>9</th>\n",
       "      <td>GaussianNB</td>\n",
       "      <td>0.855</td>\n",
       "      <td>0.31</td>\n",
       "    </tr>\n",
       "    <tr>\n",
       "      <th>10</th>\n",
       "      <td>LogisticRegression</td>\n",
       "      <td>0.890</td>\n",
       "      <td>0.39</td>\n",
       "    </tr>\n",
       "    <tr>\n",
       "      <th>11</th>\n",
       "      <td>SVC</td>\n",
       "      <td>0.865</td>\n",
       "      <td>0.95</td>\n",
       "    </tr>\n",
       "    <tr>\n",
       "      <th>12</th>\n",
       "      <td>RandomForestClassifier</td>\n",
       "      <td>0.830</td>\n",
       "      <td>0.99</td>\n",
       "    </tr>\n",
       "    <tr>\n",
       "      <th>13</th>\n",
       "      <td>RandomForestClassifier</td>\n",
       "      <td>0.810</td>\n",
       "      <td>1.01</td>\n",
       "    </tr>\n",
       "    <tr>\n",
       "      <th>14</th>\n",
       "      <td>AdaBoostClassifier</td>\n",
       "      <td>0.570</td>\n",
       "      <td>0.22</td>\n",
       "    </tr>\n",
       "    <tr>\n",
       "      <th>15</th>\n",
       "      <td>AdaBoostClassifier</td>\n",
       "      <td>0.590</td>\n",
       "      <td>0.43</td>\n",
       "    </tr>\n",
       "    <tr>\n",
       "      <th>16</th>\n",
       "      <td>XGBClassifier</td>\n",
       "      <td>0.820</td>\n",
       "      <td>1.15</td>\n",
       "    </tr>\n",
       "    <tr>\n",
       "      <th>17</th>\n",
       "      <td>XGBClassifier</td>\n",
       "      <td>0.820</td>\n",
       "      <td>1.02</td>\n",
       "    </tr>\n",
       "    <tr>\n",
       "      <th>18</th>\n",
       "      <td>XGBClassifier</td>\n",
       "      <td>0.820</td>\n",
       "      <td>1.09</td>\n",
       "    </tr>\n",
       "  </tbody>\n",
       "</table>\n",
       "</div>"
      ],
      "text/plain": [
       "                       分类器    准确率  消耗时间/s\n",
       "0     KNeighborsClassifier  0.640    0.04\n",
       "1   DecisionTreeClassifier  0.415    0.03\n",
       "2   DecisionTreeClassifier  0.400    0.02\n",
       "3   DecisionTreeClassifier  0.735    0.18\n",
       "4              BernoulliNB  0.850    0.01\n",
       "5            MultinomialNB  0.915    0.01\n",
       "6            MultinomialNB  0.915    0.01\n",
       "7            MultinomialNB  0.915    0.01\n",
       "8            MultinomialNB  0.915    0.01\n",
       "9               GaussianNB  0.855    0.31\n",
       "10      LogisticRegression  0.890    0.39\n",
       "11                     SVC  0.865    0.95\n",
       "12  RandomForestClassifier  0.830    0.99\n",
       "13  RandomForestClassifier  0.810    1.01\n",
       "14      AdaBoostClassifier  0.570    0.22\n",
       "15      AdaBoostClassifier  0.590    0.43\n",
       "16           XGBClassifier  0.820    1.15\n",
       "17           XGBClassifier  0.820    1.02\n",
       "18           XGBClassifier  0.820    1.09"
      ]
     },
     "execution_count": 61,
     "metadata": {},
     "output_type": "execute_result"
    }
   ],
   "source": [
    "df = pd.DataFrame()\n",
    "df['分类器'] = estimator_list\n",
    "df['准确率'] = score_list\n",
    "df['消耗时间/s'] = time_list\n",
    "df"
   ]
  }
 ],
 "metadata": {
  "interpreter": {
   "hash": "4eaf1be304415beee96765ae99c3f893cc8312c7f1196698e6029668e9aeb3e5"
  },
  "kernelspec": {
   "display_name": "Python 3.9.6 64-bit",
   "language": "python",
   "name": "python3"
  },
  "language_info": {
   "codemirror_mode": {
    "name": "ipython",
    "version": 3
   },
   "file_extension": ".py",
   "mimetype": "text/x-python",
   "name": "python",
   "nbconvert_exporter": "python",
   "pygments_lexer": "ipython3",
   "version": "3.9.6"
  },
  "orig_nbformat": 4
 },
 "nbformat": 4,
 "nbformat_minor": 2
}
